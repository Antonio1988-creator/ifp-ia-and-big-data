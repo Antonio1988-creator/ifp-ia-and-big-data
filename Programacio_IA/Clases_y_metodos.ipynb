{
  "nbformat": 4,
  "nbformat_minor": 0,
  "metadata": {
    "colab": {
      "provenance": []
    },
    "kernelspec": {
      "name": "python3",
      "display_name": "Python 3"
    },
    "language_info": {
      "name": "python"
    }
  },
  "cells": [
    {
      "cell_type": "markdown",
      "source": [
        "# ** ¿Qué es la Programación Orientada a Objetos (POO)? **\n",
        "\n",
        "La POO es un paradigma de programación que organiza el código en clases y objetos, en lugar de usar solo funciones y variables sueltas.\n",
        "\n",
        "Una clase es como un molde o plantilla que describe cómo será un tipo de objeto: qué datos tendrá (atributos) y qué podrá hacer (métodos).\n",
        "\n",
        "Un objeto es una instancia concreta de esa clase, creada a partir del molde.\n",
        "\n",
        " Ejemplo del mundo real: Piensa en la clase Coche como el plano de un coche. Cada coche específico (rojo, azul, eléctrico...) es un objeto creado a partir de ese plano.\n",
        "\n",
        "  1. Crear una clase básica:"
      ],
      "metadata": {
        "id": "Tcc8X-r-sCDX"
      }
    },
    {
      "cell_type": "code",
      "source": [
        "class Coche:\n",
        "    # Constructor: se ejecuta al crear un objeto\n",
        "    def __init__(self, marca, modelo):\n",
        "        self.marca = marca      # atributo (dato)\n",
        "        self.modelo = modelo    # atributo (dato)\n",
        "\n",
        "    # Método: acción que puede realizar el objeto\n",
        "    def arrancar(self):\n",
        "        print(f\"El coche {self.marca} {self.modelo} está arrancando.\")\n"
      ],
      "metadata": {
        "id": "IoJVLPyHtD6M"
      },
      "execution_count": 1,
      "outputs": []
    },
    {
      "cell_type": "markdown",
      "source": [
        "2. Crear objetos (instancias):"
      ],
      "metadata": {
        "id": "jCMgWBHat8Eo"
      }
    },
    {
      "cell_type": "code",
      "source": [
        "mi_coche = Coche(\"Toyota\", \"Corolla\")\n",
        "tu_coche = Coche(\"Ford\", \"Fiesta\")\n"
      ],
      "metadata": {
        "id": "kMAP6eCxt-t8"
      },
      "execution_count": 3,
      "outputs": []
    },
    {
      "cell_type": "markdown",
      "source": [
        "Cada variable (mi_coche, tu_coche) es un objeto independiente con sus propios valores.\n",
        "\n",
        "\n",
        "\n",
        "3. Acceder a atributos y métodos:"
      ],
      "metadata": {
        "id": "0X_QkqWvuI0N"
      }
    },
    {
      "cell_type": "code",
      "source": [
        "print(mi_coche.marca)     # Toyota\n",
        "print(tu_coche.modelo)    # Fiesta\n",
        "\n",
        "mi_coche.arrancar()       # El coche Toyota Corolla está arrancando.\n"
      ],
      "metadata": {
        "id": "B_sIfNeDuRco",
        "colab": {
          "base_uri": "https://localhost:8080/"
        },
        "outputId": "82d0e7f8-11ad-4c72-8d54-acbd94da2275"
      },
      "execution_count": 4,
      "outputs": [
        {
          "output_type": "stream",
          "name": "stdout",
          "text": [
            "Toyota\n",
            "Fiesta\n",
            "El coche Toyota Corolla está arrancando.\n"
          ]
        }
      ]
    },
    {
      "cell_type": "markdown",
      "source": [
        "\n",
        "4. Conceptos básicos clave:\n",
        "\n",
        "**Concepto**\n",
        "\n",
        "Explicación simple\n",
        "\n",
        "**Clase**\n",
        "\n",
        "Plantilla que define atributos y métodos.\n",
        "\n",
        "**Objeto**\n",
        "\n",
        "Instancia creada a partir de una clase.\n",
        "\n",
        "**Atributos**\n",
        "\n",
        "Variables que guardan el estado o datos del objeto.\n",
        "\n",
        "**Métodos **\n",
        "\n",
        "Funciones dentro de una clase que definen su comportamiento.\n",
        "\n",
        "**self **\n",
        "\n",
        "Referencia al propio objeto (necesaria para acceder a sus datos desde dentro de la clase).\n",
        "\n",
        "**\\_\\_init\\_\\_**\n",
        "\n",
        "Método especial (constructor) que se ejecuta automáticamente al crear el objeto.\n",
        "\n",
        "\n",
        "\n",
        "\n",
        "5. Ejemplo práctico completo"
      ],
      "metadata": {
        "id": "g7bL644kuuTu"
      }
    },
    {
      "cell_type": "code",
      "source": [
        "class Persona:\n",
        "    def __init__(self, nombre, edad):\n",
        "        self.nombre = nombre\n",
        "        self.edad = edad\n",
        "\n",
        "    def saludar(self):\n",
        "        print(f\"Hola, me llamo {self.nombre} y tengo {self.edad} años.\")\n",
        "\n",
        "# Crear objetos\n",
        "p1 = Persona(\"Ana\", 25)\n",
        "p2 = Persona(\"Carlos\", 30)\n",
        "\n",
        "# Usar atributos y métodos\n",
        "p1.saludar()\n",
        "p2.saludar()\n"
      ],
      "metadata": {
        "id": "NAB5e0clvVzf",
        "colab": {
          "base_uri": "https://localhost:8080/"
        },
        "outputId": "96525ba9-ae50-4b1a-b4b6-b86b8d8c1b42"
      },
      "execution_count": 7,
      "outputs": [
        {
          "output_type": "stream",
          "name": "stdout",
          "text": [
            "Hola, me llamo Ana y tengo 25 años.\n",
            "Hola, me llamo Carlos y tengo 30 años.\n"
          ]
        }
      ]
    }
  ]
}